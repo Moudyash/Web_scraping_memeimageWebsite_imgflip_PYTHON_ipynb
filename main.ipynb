{
 "nbformat": 4,
 "nbformat_minor": 0,
 "metadata": {
  "colab": {
   "provenance": []
  },
  "kernelspec": {
   "name": "python3",
   "display_name": "Python 3"
  }
 },
 "cells": [
  {
   "cell_type": "markdown",
   "metadata": {
    "id": "Gqw33PPfLxjd"
   },
   "source": [
    "**get all images from imgflip.com**\n"
   ]
  },
  {
   "cell_type": "code",
   "metadata": {
    "id": "1XGA-CZ3sm0z",
    "colab": {
     "base_uri": "https://localhost:8080/"
    },
    "outputId": "6d263f17-588b-44e2-ac23-70bc4594f6ae"
   },
   "source": [
    "import requests\n",
    "import shutil\n",
    "import time\n",
    "from bs4 import BeautifulSoup\n",
    "import json\n",
    "import os\n",
    "import csv\n",
    "filecsv = open('meme.csv', 'w', encoding='utf8')\n",
    "# Set the URL you want to webscrape from\n",
    "url = 'https://imgflip.com/?page='\n",
    "try:\n",
    "  os.mkdir(\"images\")\n",
    "except FileExistsError:\n",
    "  shutil.rmtree(\"/content/images\")\n",
    "  os.makedirs(\"images\")\n",
    "file = open('meme.json', 'w', encoding='utf8')\n",
    "file.write('[\\n')\n",
    "data = {}\n",
    "csv_columns = ['author', 'title', 'img']\n",
    "writer = csv.DictWriter(filecsv, fieldnames=csv_columns)\n",
    "writer.writeheader()\n",
    "\n",
    "for page in range(1,11):\n",
    "    print('---', page, '---')\n",
    "    r = requests.get(url + str(page))\n",
    "    print(url + str(page))\n",
    "    soup = BeautifulSoup(r.content, \"html.parser\")\n",
    "    ancher = soup.find_all('div', {'class': \"base-unit clearfix\"})\n",
    "    i = 0\n",
    "    for pt in ancher:\n",
    "        try:\n",
    "          img = pt.find('img', {'class': 'base-img'})['src']\n",
    "        except TypeError:\n",
    "          try:\n",
    "            img = pt.find('video', {'class': 'base-img ctx-gif'})['data-src']\n",
    "          except TypeError:\n",
    "            img=\"img not availabe\"\n",
    "        try:\n",
    "          title = pt.find('h2', {'class': 'base-unit-title'}).find('a').get_text()\n",
    "        except AttributeError:\n",
    "          title='not availabe'\n",
    "        try:\n",
    "          author = pt.find('a', {'class': 'u-username'}).get_text()\n",
    "        except AttributeError:\n",
    "          author='not availabe'\n",
    "\n",
    "        if img !=\"img not availabe\":\n",
    "          resource = requests.get(\"http:\"+img)\n",
    "          # print(\"status_code\",resource.status_code)\n",
    "          if (img.endswith(\".jpg\")):\n",
    "            output = open(\"images/\"+title.replace('/',\"\")+str(page)+author+\".jpg\",\"wb\")\n",
    "          else:\n",
    "            output = open(\"images/\"+title.replace('/',\"\")+str(page)+author+\".gif\",\"wb\")\n",
    "          output.write(resource.content)\n",
    "                \n",
    "          output.close()\n",
    "        else: print(\"img not availabe\")\n",
    "        print(\"image: \"+\"https:\"+img)\n",
    "        print(\"title: \",title)\n",
    "        print(\"author: \", author)\n",
    "\n",
    "        writer.writerow({'author': author.strip('\\r\\n'), \"title\":title,\"img\":img})\n",
    "\n",
    "        data['img'] = img\n",
    "        data['title'] = title\n",
    "        data['author'] = author\n",
    "        json_data = json.dumps(data, ensure_ascii=False)\n",
    "        file.write(json_data)\n",
    "        file.write(\",\\n\")\n",
    "file.write(\"\\n]\")\n",
    "# defining the api-endpoint\n",
    "filecsv.close()\n",
    "file.close()\n",
    "\n",
    "print(len(os.listdir('/content/images')), \"images are extracted\")\n"
   ],
   "execution_count": 1,
   "outputs": [
    {
     "ename": "PermissionError",
     "evalue": "[Errno 13] Permission denied: 'meme.csv'",
     "output_type": "error",
     "traceback": [
      "\u001B[1;31m---------------------------------------------------------------------------\u001B[0m",
      "\u001B[1;31mPermissionError\u001B[0m                           Traceback (most recent call last)",
      "Cell \u001B[1;32mIn [1], line 8\u001B[0m\n\u001B[0;32m      6\u001B[0m \u001B[38;5;28;01mimport\u001B[39;00m \u001B[38;5;21;01mos\u001B[39;00m\n\u001B[0;32m      7\u001B[0m \u001B[38;5;28;01mimport\u001B[39;00m \u001B[38;5;21;01mcsv\u001B[39;00m\n\u001B[1;32m----> 8\u001B[0m filecsv \u001B[38;5;241m=\u001B[39m \u001B[38;5;28;43mopen\u001B[39;49m\u001B[43m(\u001B[49m\u001B[38;5;124;43m'\u001B[39;49m\u001B[38;5;124;43mmeme.csv\u001B[39;49m\u001B[38;5;124;43m'\u001B[39;49m\u001B[43m,\u001B[49m\u001B[43m \u001B[49m\u001B[38;5;124;43m'\u001B[39;49m\u001B[38;5;124;43mw\u001B[39;49m\u001B[38;5;124;43m'\u001B[39;49m\u001B[43m,\u001B[49m\u001B[43m \u001B[49m\u001B[43mencoding\u001B[49m\u001B[38;5;241;43m=\u001B[39;49m\u001B[38;5;124;43m'\u001B[39;49m\u001B[38;5;124;43mutf8\u001B[39;49m\u001B[38;5;124;43m'\u001B[39;49m\u001B[43m)\u001B[49m\n\u001B[0;32m      9\u001B[0m \u001B[38;5;66;03m# Set the URL you want to webscrape from\u001B[39;00m\n\u001B[0;32m     10\u001B[0m url \u001B[38;5;241m=\u001B[39m \u001B[38;5;124m'\u001B[39m\u001B[38;5;124mhttps://imgflip.com/?page=\u001B[39m\u001B[38;5;124m'\u001B[39m\n",
      "File \u001B[1;32m~\\AppData\\Local\\Programs\\Python\\Python310\\lib\\site-packages\\IPython\\core\\interactiveshell.py:282\u001B[0m, in \u001B[0;36m_modified_open\u001B[1;34m(file, *args, **kwargs)\u001B[0m\n\u001B[0;32m    275\u001B[0m \u001B[38;5;28;01mif\u001B[39;00m file \u001B[38;5;129;01min\u001B[39;00m {\u001B[38;5;241m0\u001B[39m, \u001B[38;5;241m1\u001B[39m, \u001B[38;5;241m2\u001B[39m}:\n\u001B[0;32m    276\u001B[0m     \u001B[38;5;28;01mraise\u001B[39;00m \u001B[38;5;167;01mValueError\u001B[39;00m(\n\u001B[0;32m    277\u001B[0m         \u001B[38;5;124mf\u001B[39m\u001B[38;5;124m\"\u001B[39m\u001B[38;5;124mIPython won\u001B[39m\u001B[38;5;124m'\u001B[39m\u001B[38;5;124mt let you open fd=\u001B[39m\u001B[38;5;132;01m{\u001B[39;00mfile\u001B[38;5;132;01m}\u001B[39;00m\u001B[38;5;124m by default \u001B[39m\u001B[38;5;124m\"\u001B[39m\n\u001B[0;32m    278\u001B[0m         \u001B[38;5;124m\"\u001B[39m\u001B[38;5;124mas it is likely to crash IPython. If you know what you are doing, \u001B[39m\u001B[38;5;124m\"\u001B[39m\n\u001B[0;32m    279\u001B[0m         \u001B[38;5;124m\"\u001B[39m\u001B[38;5;124myou can use builtins\u001B[39m\u001B[38;5;124m'\u001B[39m\u001B[38;5;124m open.\u001B[39m\u001B[38;5;124m\"\u001B[39m\n\u001B[0;32m    280\u001B[0m     )\n\u001B[1;32m--> 282\u001B[0m \u001B[38;5;28;01mreturn\u001B[39;00m io_open(file, \u001B[38;5;241m*\u001B[39margs, \u001B[38;5;241m*\u001B[39m\u001B[38;5;241m*\u001B[39mkwargs)\n",
      "\u001B[1;31mPermissionError\u001B[0m: [Errno 13] Permission denied: 'meme.csv'"
     ]
    }
   ]
  }
 ]
}